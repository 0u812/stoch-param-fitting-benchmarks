{
  "cells": [
    {
      "cell_type": "code",
      "source": [
        "from __future__ import division, print_function, absolute_import\n",
        "import tellurium as te, numpy as np"
      ],
      "outputs": [],
      "execution_count": 16,
      "metadata": {
        "collapsed": false,
        "outputHidden": false,
        "inputHidden": false
      }
    },
    {
      "cell_type": "code",
      "source": [
        "#te.setDefaultPlottingEngine('matplotlib')"
      ],
      "outputs": [],
      "execution_count": 17,
      "metadata": {
        "collapsed": false,
        "outputHidden": false,
        "inputHidden": false
      }
    },
    {
      "cell_type": "code",
      "source": [
        "model *p53arf()\n",
        "\n",
        "  // Compartments and Species:\n",
        "  compartment cell;\n",
        "  substanceOnly species Mdm2 in cell, p53 in cell, Mdm2_p53 in cell, Mdm2_mRNA in cell;\n",
        "  substanceOnly species ARF in cell, ARF_Mdm2 in cell, damDNA in cell, $Sink in cell;\n",
        "  substanceOnly species $Source in cell, p53deg in cell, p53syn in cell, mdm2deg in cell;\n",
        "  substanceOnly species mdm2syn in cell, Mdm2mRNAdeg in cell, Mdm2mRNAsyn in cell;\n",
        "  substanceOnly species totdamDNA in cell, $totp53 in cell, $totMdm2 in cell;\n",
        "\n",
        "  // Assignment Rules:\n",
        "  totp53 := p53 + Mdm2_p53;\n",
        "  totMdm2 := Mdm2 + Mdm2_p53 + ARF_Mdm2;\n",
        "\n",
        "  // Reactions:\n",
        "  Mdm2Synthesis: Mdm2_mRNA => Mdm2_mRNA + Mdm2 + mdm2syn; ksynMdm2*Mdm2_mRNA;\n",
        "  Mdm2mRNASynthesis: p53 => p53 + Mdm2_mRNA + Mdm2mRNAsyn; ksynMdm2mRNA*p53;\n",
        "  Mdm2mRNADegradation: Mdm2_mRNA => $Sink + Mdm2mRNAdeg; kdegMdm2mRNA*Mdm2_mRNA;\n",
        "  Mdm2Degradation: Mdm2 => $Sink + mdm2deg; kdegMdm2*Mdm2*kproteff;\n",
        "  p53Synthesis: $Source => p53 + p53syn; ksynp53*Source;\n",
        "  p53Degradation: Mdm2_p53 => Mdm2 + p53deg; kdegp53*Mdm2_p53*kproteff;\n",
        "  P53_Mdm2Binding: p53 + Mdm2 => Mdm2_p53; kbinMdm2p53*p53*Mdm2;\n",
        "  P53_Mdm2Release: Mdm2_p53 => p53 + Mdm2; krelMdm2p53*Mdm2_p53;\n",
        "  DNAdamage:  => damDNA + totdamDNA; kdam*IR;\n",
        "  DNArepair: damDNA => $Sink; krepair*damDNA;\n",
        "  ARFactivation: damDNA => damDNA + ARF; kactARF*damDNA;\n",
        "  ARF_Mdm2Binding: ARF + Mdm2 => ARF_Mdm2; kbinARFMdm2*ARF*Mdm2;\n",
        "  ARF_Mdm2Degradation: ARF_Mdm2 => ARF + mdm2deg; kdegARFMdm2*ARF_Mdm2*kproteff;\n",
        "  ARFDegradation: ARF => $Sink; kdegARF*ARF*kproteff;\n",
        "\n",
        "  // Events:\n",
        "  stressCell: at time >= 3600: IR = 25;\n",
        "  stopStress: at time >= 3660: IR = 0;\n",
        "\n",
        "  // Species initializations:\n",
        "  Mdm2 = 5/cell;\n",
        "  p53 = 5/cell;\n",
        "  Mdm2_p53 = 95/cell;\n",
        "  Mdm2_mRNA = 0;\n",
        "  ARF = 0;\n",
        "  ARF_Mdm2 = 0;\n",
        "  damDNA = 0;\n",
        "  Sink = 1/cell;\n",
        "  Source = 1/cell;\n",
        "  p53deg = 0;\n",
        "  p53syn = 0;\n",
        "  mdm2deg = 0;\n",
        "  mdm2syn = 0;\n",
        "  Mdm2mRNAdeg = 0;\n",
        "  Mdm2mRNAsyn = 0;\n",
        "  totdamDNA = 0;\n",
        "\n",
        "  // Compartment initializations:\n",
        "  cell = 1;\n",
        "\n",
        "  // Variable initializations:\n",
        "  IR = 0;\n",
        "  IR has decagray;\n",
        "  ksynMdm2 = 0.000495;\n",
        "  ksynMdm2 has psec;\n",
        "  kdegMdm2 = 0.000433;\n",
        "  kdegMdm2 has psec;\n",
        "  ksynp53 = 0.078;\n",
        "  ksynp53 has psec;\n",
        "  kdegp53 = 0.000825;\n",
        "  kdegp53 has psec;\n",
        "  kbinMdm2p53 = 0.001155;\n",
        "  kbinMdm2p53 has pmolepsec;\n",
        "  krelMdm2p53 = 1.155e-05;\n",
        "  krelMdm2p53 has psec;\n",
        "  ksynMdm2mRNA = 0.0001;\n",
        "  ksynMdm2mRNA has psec;\n",
        "  kdegMdm2mRNA = 0.0001;\n",
        "  kdegMdm2mRNA has psec;\n",
        "  kbinARFMdm2 = 0.01;\n",
        "  kbinARFMdm2 has pmolepsec;\n",
        "  kdegARFMdm2 = 0.001;\n",
        "  kdegARFMdm2 has psec;\n",
        "  kdegARF = 0.0001;\n",
        "  kdegARF has psec;\n",
        "  kactARF = 3.3e-05;\n",
        "  kactARF has psec;\n",
        "  kdam = 0.08;\n",
        "  kdam has molepsecpdGy;\n",
        "  krepair = 2e-05;\n",
        "  krepair has psec;\n",
        "  kproteff = 1;\n",
        "  kproteff has dimensionless;\n",
        "\n",
        "  // Other declarations:\n",
        "  var IR;\n",
        "  const cell, ksynMdm2, kdegMdm2, ksynp53, kdegp53, kbinMdm2p53, krelMdm2p53;\n",
        "  const ksynMdm2mRNA, kdegMdm2mRNA, kbinARFMdm2, kdegARFMdm2, kdegARF, kactARF;\n",
        "  const kdam, krepair, kproteff;\n",
        "\n",
        "  // Unit definitions:\n",
        "  unit molepsecpdGy = mole / (second * 10 gray);\n",
        "  unit decagray = 10 gray;\n",
        "  unit molepsec = mole / second;\n",
        "  unit pmolepsec = 1 / (mole * second);\n",
        "  unit psec = 1 / second;\n",
        "\n",
        "  // Display Names:\n",
        "  decagray is \"dGy\";\n",
        "end"
      ],
      "outputs": [],
      "execution_count": 18,
      "metadata": {
        "collapsed": false,
        "outputHidden": false,
        "inputHidden": false,
        "tellurium": {
          "te_cell_type": "antimony"
        }
      }
    },
    {
      "cell_type": "code",
      "source": [
        "model = p53arf\n",
        "model.integrator = 'gillespie'\n",
        "model.integrator.variable_step_size = False"
      ],
      "outputs": [],
      "execution_count": 19,
      "metadata": {
        "collapsed": false,
        "outputHidden": false,
        "inputHidden": false
      }
    },
    {
      "cell_type": "code",
      "source": [
        "selections = ['time','Mdm2','p53','Mdm2_p53','Mdm2_mRNA','ARF','ARF_Mdm2','damDNA','p53deg','p53syn','mdm2deg','mdm2syn','Mdm2mRNAdeg','Mdm2mRNAsyn','totdamDNA']\n",
        "model.reset()\n",
        "N = 10 # replicates\n",
        "points = 1000 # num of simulation points\n",
        "s_sum = np.zeros(shape=[points, len(selections)])\n",
        "for k in range(N):\n",
        "    model.resetToOrigin()\n",
        "    sim = model.simulate(0,1000,points,selections)\n",
        "    s_sum += sim\n",
        "    model.plot(sim, alpha=0.5, show=False)\n",
        "# plot mean traces\n",
        "fig = te.plot(sim[:,0], s_sum[:,1:]/N, names=[x + ' (mean)' for x in selections[1:]], title=\"Stochastic simulation\", xtitle=\"time\", ytitle=\"concentration\")"
      ],
      "outputs": [],
      "execution_count": 20,
      "metadata": {
        "collapsed": false,
        "outputHidden": false,
        "inputHidden": false
      }
    },
    {
      "cell_type": "markdown",
      "source": [
        "# Try to fit\n",
        "```\n",
        "kdegMdm2\n",
        "kdegp53\n",
        "kbinMdm2p53\n",
        "krelMdm2p53\n",
        "kphosMdm2\n",
        "kdephosMdm2\n",
        "kdegATMMdm2\n",
        "```"
      ],
      "metadata": {}
    }
  ],
  "metadata": {
    "kernelspec": {
      "name": "python3",
      "language": "python",
      "display_name": "Python 3"
    },
    "kernel_info": {
      "name": "python3"
    },
    "language_info": {
      "name": "python",
      "version": "3.6.1",
      "mimetype": "text/x-python",
      "codemirror_mode": {
        "name": "ipython",
        "version": 3
      },
      "pygments_lexer": "ipython3",
      "nbconvert_exporter": "python",
      "file_extension": ".py"
    }
  },
  "nbformat": 4,
  "nbformat_minor": 4
}